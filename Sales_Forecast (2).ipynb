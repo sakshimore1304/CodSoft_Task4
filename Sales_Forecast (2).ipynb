{
 "cells": [
  {
   "cell_type": "markdown",
   "id": "2d939a10",
   "metadata": {},
   "source": [
    "# SALES PREDICTION"
   ]
  },
  {
   "cell_type": "markdown",
   "id": "b77b0a54",
   "metadata": {},
   "source": [
    "##### loading all the required libraries"
   ]
  },
  {
   "cell_type": "code",
   "execution_count": 1,
   "id": "26e41c1c",
   "metadata": {},
   "outputs": [],
   "source": [
    "import pandas as pd\n",
    "import numpy as np\n",
    "import matplotlib.pyplot as plt\n",
    "import seaborn as sns\n",
    "from sklearn.model_selection import train_test_split\n",
    "from sklearn.linear_model import LinearRegression\n",
    "from sklearn.metrics import accuracy_score\n",
    "from ipywidgets import interact\n",
    "from sklearn.metrics import mean_squared_error\n",
    "from sklearn.metrics import r2_score\n",
    "from sklearn.metrics import mean_absolute_error"
   ]
  },
  {
   "cell_type": "markdown",
   "id": "a681c87b",
   "metadata": {},
   "source": [
    "##### loading the dataset"
   ]
  },
  {
   "cell_type": "code",
   "execution_count": 2,
   "id": "101897fa",
   "metadata": {},
   "outputs": [],
   "source": [
    "data=pd.read_csv('Advertising.csv')"
   ]
  },
  {
   "cell_type": "code",
   "execution_count": 3,
   "id": "100ae89d",
   "metadata": {},
   "outputs": [
    {
     "data": {
      "text/html": [
       "<div>\n",
       "<style scoped>\n",
       "    .dataframe tbody tr th:only-of-type {\n",
       "        vertical-align: middle;\n",
       "    }\n",
       "\n",
       "    .dataframe tbody tr th {\n",
       "        vertical-align: top;\n",
       "    }\n",
       "\n",
       "    .dataframe thead th {\n",
       "        text-align: right;\n",
       "    }\n",
       "</style>\n",
       "<table border=\"1\" class=\"dataframe\">\n",
       "  <thead>\n",
       "    <tr style=\"text-align: right;\">\n",
       "      <th></th>\n",
       "      <th>TV</th>\n",
       "      <th>Radio</th>\n",
       "      <th>Newspaper</th>\n",
       "      <th>Sales</th>\n",
       "    </tr>\n",
       "  </thead>\n",
       "  <tbody>\n",
       "    <tr>\n",
       "      <th>0</th>\n",
       "      <td>230.1</td>\n",
       "      <td>37.8</td>\n",
       "      <td>69.2</td>\n",
       "      <td>22.1</td>\n",
       "    </tr>\n",
       "    <tr>\n",
       "      <th>1</th>\n",
       "      <td>44.5</td>\n",
       "      <td>39.3</td>\n",
       "      <td>45.1</td>\n",
       "      <td>10.4</td>\n",
       "    </tr>\n",
       "    <tr>\n",
       "      <th>2</th>\n",
       "      <td>17.2</td>\n",
       "      <td>45.9</td>\n",
       "      <td>69.3</td>\n",
       "      <td>12.0</td>\n",
       "    </tr>\n",
       "    <tr>\n",
       "      <th>3</th>\n",
       "      <td>151.5</td>\n",
       "      <td>41.3</td>\n",
       "      <td>58.5</td>\n",
       "      <td>16.5</td>\n",
       "    </tr>\n",
       "    <tr>\n",
       "      <th>4</th>\n",
       "      <td>180.8</td>\n",
       "      <td>10.8</td>\n",
       "      <td>58.4</td>\n",
       "      <td>17.9</td>\n",
       "    </tr>\n",
       "  </tbody>\n",
       "</table>\n",
       "</div>"
      ],
      "text/plain": [
       "      TV  Radio  Newspaper  Sales\n",
       "0  230.1   37.8       69.2   22.1\n",
       "1   44.5   39.3       45.1   10.4\n",
       "2   17.2   45.9       69.3   12.0\n",
       "3  151.5   41.3       58.5   16.5\n",
       "4  180.8   10.8       58.4   17.9"
      ]
     },
     "execution_count": 3,
     "metadata": {},
     "output_type": "execute_result"
    }
   ],
   "source": [
    "data.head()"
   ]
  },
  {
   "cell_type": "markdown",
   "id": "1903078b",
   "metadata": {},
   "source": [
    "##### getting the shape of the data"
   ]
  },
  {
   "cell_type": "code",
   "execution_count": 4,
   "id": "7f87e6e9",
   "metadata": {},
   "outputs": [
    {
     "data": {
      "text/plain": [
       "(200, 4)"
      ]
     },
     "execution_count": 4,
     "metadata": {},
     "output_type": "execute_result"
    }
   ],
   "source": [
    "data.shape"
   ]
  },
  {
   "cell_type": "markdown",
   "id": "2376e77d",
   "metadata": {},
   "source": [
    "##### displaying columns of the data"
   ]
  },
  {
   "cell_type": "code",
   "execution_count": 5,
   "id": "a3e02122",
   "metadata": {},
   "outputs": [
    {
     "data": {
      "text/plain": [
       "Index(['TV', 'Radio', 'Newspaper', 'Sales'], dtype='object')"
      ]
     },
     "execution_count": 5,
     "metadata": {},
     "output_type": "execute_result"
    }
   ],
   "source": [
    "data.columns"
   ]
  },
  {
   "cell_type": "markdown",
   "id": "39e6c086",
   "metadata": {},
   "source": [
    "##### displaying the data types of the columns in the dataset"
   ]
  },
  {
   "cell_type": "code",
   "execution_count": 6,
   "id": "db406989",
   "metadata": {},
   "outputs": [
    {
     "data": {
      "text/plain": [
       "TV           float64\n",
       "Radio        float64\n",
       "Newspaper    float64\n",
       "Sales        float64\n",
       "dtype: object"
      ]
     },
     "execution_count": 6,
     "metadata": {},
     "output_type": "execute_result"
    }
   ],
   "source": [
    "data.dtypes"
   ]
  },
  {
   "cell_type": "code",
   "execution_count": 7,
   "id": "07fe34c2",
   "metadata": {
    "scrolled": true
   },
   "outputs": [
    {
     "data": {
      "text/plain": [
       "TV           0\n",
       "Radio        0\n",
       "Newspaper    0\n",
       "Sales        0\n",
       "dtype: int64"
      ]
     },
     "execution_count": 7,
     "metadata": {},
     "output_type": "execute_result"
    }
   ],
   "source": [
    "data.isnull().sum()"
   ]
  },
  {
   "cell_type": "markdown",
   "id": "f85576ba",
   "metadata": {},
   "source": [
    "##### lets get the description of the data"
   ]
  },
  {
   "cell_type": "code",
   "execution_count": 8,
   "id": "0cae5cc5",
   "metadata": {},
   "outputs": [
    {
     "data": {
      "text/html": [
       "<div>\n",
       "<style scoped>\n",
       "    .dataframe tbody tr th:only-of-type {\n",
       "        vertical-align: middle;\n",
       "    }\n",
       "\n",
       "    .dataframe tbody tr th {\n",
       "        vertical-align: top;\n",
       "    }\n",
       "\n",
       "    .dataframe thead th {\n",
       "        text-align: right;\n",
       "    }\n",
       "</style>\n",
       "<table border=\"1\" class=\"dataframe\">\n",
       "  <thead>\n",
       "    <tr style=\"text-align: right;\">\n",
       "      <th></th>\n",
       "      <th>TV</th>\n",
       "      <th>Radio</th>\n",
       "      <th>Newspaper</th>\n",
       "      <th>Sales</th>\n",
       "    </tr>\n",
       "  </thead>\n",
       "  <tbody>\n",
       "    <tr>\n",
       "      <th>count</th>\n",
       "      <td>200.000000</td>\n",
       "      <td>200.000000</td>\n",
       "      <td>200.000000</td>\n",
       "      <td>200.000000</td>\n",
       "    </tr>\n",
       "    <tr>\n",
       "      <th>mean</th>\n",
       "      <td>147.042500</td>\n",
       "      <td>23.264000</td>\n",
       "      <td>30.554000</td>\n",
       "      <td>15.130500</td>\n",
       "    </tr>\n",
       "    <tr>\n",
       "      <th>std</th>\n",
       "      <td>85.854236</td>\n",
       "      <td>14.846809</td>\n",
       "      <td>21.778621</td>\n",
       "      <td>5.283892</td>\n",
       "    </tr>\n",
       "    <tr>\n",
       "      <th>min</th>\n",
       "      <td>0.700000</td>\n",
       "      <td>0.000000</td>\n",
       "      <td>0.300000</td>\n",
       "      <td>1.600000</td>\n",
       "    </tr>\n",
       "    <tr>\n",
       "      <th>25%</th>\n",
       "      <td>74.375000</td>\n",
       "      <td>9.975000</td>\n",
       "      <td>12.750000</td>\n",
       "      <td>11.000000</td>\n",
       "    </tr>\n",
       "    <tr>\n",
       "      <th>50%</th>\n",
       "      <td>149.750000</td>\n",
       "      <td>22.900000</td>\n",
       "      <td>25.750000</td>\n",
       "      <td>16.000000</td>\n",
       "    </tr>\n",
       "    <tr>\n",
       "      <th>75%</th>\n",
       "      <td>218.825000</td>\n",
       "      <td>36.525000</td>\n",
       "      <td>45.100000</td>\n",
       "      <td>19.050000</td>\n",
       "    </tr>\n",
       "    <tr>\n",
       "      <th>max</th>\n",
       "      <td>296.400000</td>\n",
       "      <td>49.600000</td>\n",
       "      <td>114.000000</td>\n",
       "      <td>27.000000</td>\n",
       "    </tr>\n",
       "  </tbody>\n",
       "</table>\n",
       "</div>"
      ],
      "text/plain": [
       "               TV       Radio   Newspaper       Sales\n",
       "count  200.000000  200.000000  200.000000  200.000000\n",
       "mean   147.042500   23.264000   30.554000   15.130500\n",
       "std     85.854236   14.846809   21.778621    5.283892\n",
       "min      0.700000    0.000000    0.300000    1.600000\n",
       "25%     74.375000    9.975000   12.750000   11.000000\n",
       "50%    149.750000   22.900000   25.750000   16.000000\n",
       "75%    218.825000   36.525000   45.100000   19.050000\n",
       "max    296.400000   49.600000  114.000000   27.000000"
      ]
     },
     "execution_count": 8,
     "metadata": {},
     "output_type": "execute_result"
    }
   ],
   "source": [
    "data.describe()"
   ]
  },
  {
   "cell_type": "markdown",
   "id": "c1097244",
   "metadata": {},
   "source": [
    "##### lest get the information about the data"
   ]
  },
  {
   "cell_type": "code",
   "execution_count": 9,
   "id": "acc6016f",
   "metadata": {},
   "outputs": [
    {
     "name": "stdout",
     "output_type": "stream",
     "text": [
      "<class 'pandas.core.frame.DataFrame'>\n",
      "RangeIndex: 200 entries, 0 to 199\n",
      "Data columns (total 4 columns):\n",
      " #   Column     Non-Null Count  Dtype  \n",
      "---  ------     --------------  -----  \n",
      " 0   TV         200 non-null    float64\n",
      " 1   Radio      200 non-null    float64\n",
      " 2   Newspaper  200 non-null    float64\n",
      " 3   Sales      200 non-null    float64\n",
      "dtypes: float64(4)\n",
      "memory usage: 6.4 KB\n"
     ]
    }
   ],
   "source": [
    "data.info()"
   ]
  },
  {
   "cell_type": "markdown",
   "id": "5b59d2b5",
   "metadata": {},
   "source": [
    "##### lets create a boxplot to find outliers in data"
   ]
  },
  {
   "cell_type": "code",
   "execution_count": 10,
   "id": "84333098",
   "metadata": {},
   "outputs": [
    {
     "data": {
      "application/vnd.jupyter.widget-view+json": {
       "model_id": "6c7e5bde0dcd46e8baaa182ea954da0e",
       "version_major": 2,
       "version_minor": 0
      },
      "text/plain": [
       "interactive(children=(Dropdown(description='x_data', options=('TV', 'Radio', 'Newspaper'), value='TV'), Output…"
      ]
     },
     "metadata": {},
     "output_type": "display_data"
    }
   ],
   "source": [
    "@interact(x_data=['TV','Radio','Newspaper'])\n",
    "def outlier(x_data):\n",
    "    if x_data=='TV':\n",
    "        plt.boxplot(x='TV',data=data)\n",
    "    elif x_data=='Radio':\n",
    "        plt.boxplot(x='Radio',data=data)\n",
    "    elif x_data=='Newspaper':\n",
    "        plt.boxplot(x='Newspaper',data=data)\n",
    "    plt.title(f'{x_data} plot')\n",
    "    plt.xlabel(x_data)\n",
    "    plt.ylabel('Sales')"
   ]
  },
  {
   "cell_type": "markdown",
   "id": "f6e010b0",
   "metadata": {},
   "source": [
    "##### lets craete a heatmap to find correlation"
   ]
  },
  {
   "cell_type": "code",
   "execution_count": 11,
   "id": "756cef62",
   "metadata": {},
   "outputs": [
    {
     "data": {
      "image/png": "[encoded data removed]",
      "text/plain": [
       "<Figure size 432x288 with 2 Axes>"
      ]
     },
     "metadata": {
      "needs_background": "light"
     },
     "output_type": "display_data"
    }
   ],
   "source": [
    "sns.heatmap(data.corr(), cmap=\"YlGnBu\", annot = True)\n",
    "plt.show()"
   ]
  },
  {
   "cell_type": "markdown",
   "id": "469a27ae",
   "metadata": {},
   "source": [
    "##### lets create a interactive model to find the relationship between the type of advertisement compared to the sales"
   ]
  },
  {
   "cell_type": "code",
   "execution_count": 12,
   "id": "9a0d4416",
   "metadata": {},
   "outputs": [
    {
     "data": {
      "application/vnd.jupyter.widget-view+json": {
       "model_id": "deb18f9f09a745f5a49a2e283ba33743",
       "version_major": 2,
       "version_minor": 0
      },
      "text/plain": [
       "interactive(children=(Dropdown(description='x_data', options=('TV', 'Radio', 'Newspaper', 'Sales'), value='TV'…"
      ]
     },
     "metadata": {},
     "output_type": "display_data"
    }
   ],
   "source": [
    "@interact(x_data=data.columns)\n",
    "def analysis(x_data):\n",
    "    if x_data=='TV':\n",
    "        plt.scatter(x='TV',y='Sales',data=data)\n",
    "    elif x_data=='Radio':\n",
    "        plt.scatter(x='Radio',y='Sales',data=data)\n",
    "    elif x_data=='Newspaper':\n",
    "        plt.scatter(x='Newspaper',y='Sales',data=data)\n",
    "    plt.title(f'{x_data} v/s Sales')\n",
    "    plt.xlabel(x_data)\n",
    "    plt.ylabel('Sales')"
   ]
  },
  {
   "cell_type": "markdown",
   "id": "5829e6c9",
   "metadata": {},
   "source": [
    "##### MODEL CREATION"
   ]
  },
  {
   "cell_type": "code",
   "execution_count": 13,
   "id": "e629b737",
   "metadata": {},
   "outputs": [],
   "source": [
    "x=data[['TV','Radio','Newspaper']]"
   ]
  },
  {
   "cell_type": "code",
   "execution_count": 14,
   "id": "de3ed837",
   "metadata": {},
   "outputs": [],
   "source": [
    "y=data['Sales']"
   ]
  },
  {
   "cell_type": "markdown",
   "id": "34a73785",
   "metadata": {},
   "source": [
    "##### splitting the data into training and testing set"
   ]
  },
  {
   "cell_type": "code",
   "execution_count": 15,
   "id": "e4036ddf",
   "metadata": {},
   "outputs": [],
   "source": [
    "x_train,x_test,y_train,y_test=train_test_split(x,y,test_size=0.20,random_state=3)"
   ]
  },
  {
   "cell_type": "code",
   "execution_count": 16,
   "id": "b015f5f3",
   "metadata": {},
   "outputs": [],
   "source": [
    "lr=LinearRegression()"
   ]
  },
  {
   "cell_type": "code",
   "execution_count": 17,
   "id": "c9a89bb9",
   "metadata": {},
   "outputs": [
    {
     "data": {
      "text/plain": [
       "LinearRegression()"
      ]
     },
     "execution_count": 17,
     "metadata": {},
     "output_type": "execute_result"
    }
   ],
   "source": [
    "lr.fit(x_train,y_train)"
   ]
  },
  {
   "cell_type": "code",
   "execution_count": 18,
   "id": "097e2186",
   "metadata": {},
   "outputs": [],
   "source": [
    "prediction=lr.predict(x_test)"
   ]
  },
  {
   "cell_type": "code",
   "execution_count": 19,
   "id": "04d285df",
   "metadata": {},
   "outputs": [],
   "source": [
    "mse=np.sqrt(mean_squared_error(y_test,prediction))"
   ]
  },
  {
   "cell_type": "code",
   "execution_count": 20,
   "id": "9dff195a",
   "metadata": {},
   "outputs": [
    {
     "name": "stdout",
     "output_type": "stream",
     "text": [
      "The Mean Sqaure Error is :  1.4107402196670455\n"
     ]
    }
   ],
   "source": [
    "print('The Mean Sqaure Error is : ',mse)"
   ]
  },
  {
   "cell_type": "code",
   "execution_count": 21,
   "id": "0b589e64",
   "metadata": {},
   "outputs": [],
   "source": [
    "r2=r2_score(y_test,prediction)"
   ]
  },
  {
   "cell_type": "code",
   "execution_count": 22,
   "id": "5aa55dd2",
   "metadata": {},
   "outputs": [
    {
     "name": "stdout",
     "output_type": "stream",
     "text": [
      "The r2 score is :  0.9148706512256517\n"
     ]
    }
   ],
   "source": [
    "print('The r2 score is : ',r2)"
   ]
  },
  {
   "cell_type": "code",
   "execution_count": 23,
   "id": "6ac5a27d",
   "metadata": {},
   "outputs": [],
   "source": [
    "mae=mean_absolute_error(y_test,prediction)"
   ]
  },
  {
   "cell_type": "code",
   "execution_count": 24,
   "id": "9becb15c",
   "metadata": {},
   "outputs": [
    {
     "name": "stdout",
     "output_type": "stream",
     "text": [
      "The Mean Absolute Error is :  1.0436595481340785\n"
     ]
    }
   ],
   "source": [
    "print('The Mean Absolute Error is : ',mae)"
   ]
  },
  {
   "cell_type": "code",
   "execution_count": null,
   "id": "490ddfe0",
   "metadata": {},
   "outputs": [],
   "source": []
  }
 ],
 "metadata": {
  "kernelspec": {
   "display_name": "Python 3",
   "language": "python",
   "name": "python3"
  },
  "language_info": {
   "codemirror_mode": {
    "name": "ipython",
    "version": 3
   },
   "file_extension": ".py",
   "mimetype": "text/x-python",
   "name": "python",
   "nbconvert_exporter": "python",
   "pygments_lexer": "ipython3",
   "version": "3.8.8"
  }
 },
 "nbformat": 4,
 "nbformat_minor": 5
}
